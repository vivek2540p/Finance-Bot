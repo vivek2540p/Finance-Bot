{
 "cells": [
  {
   "cell_type": "code",
   "execution_count": null,
   "metadata": {},
   "outputs": [],
   "source": [
    "from langchain_google_genai import ChatGoogleGenerativeAI,GoogleGenerativeAIEmbeddings\n",
    "import os\n",
    "# from langchain_groq import ChatGroq\n",
    "from dotenv import load_dotenv\n",
    "from langchain_community.tools.tavily_search import TavilySearchResults\n",
    "from langchain_community.tools import DuckDuckGoSearchResults\n",
    "from langchain_community.tools.yahoo_finance_news import YahooFinanceNewsTool\n",
    "from langchain_community.utilities import GoogleSerperAPIWrapper\n",
    "from langchain_core.tools import Tool\n",
    "load_dotenv()\n",
    "groq_api_key = os.environ[\"GROQ_API_KEY\"]\n",
    "os.environ[\"SERPER_API_KEY\"]=os.getenv(\"SERPER_API_KEY\")\n",
    "# llm =ChatGroq(groq_api_key=groq_api_key,model_name=\"llama-3.2-1b-preview\")\n",
    "llm = ChatGoogleGenerativeAI(model=\"gemini-2.0-flash\",google_api_key=os.getenv(\"GEMINI_API_KEY\"))\n",
    "embeddings = GoogleGenerativeAIEmbeddings(model=\"models/embedding-001\",google_api_key=os.getenv(\"GEMINI_API_KEY\"))\n",
    "duck = DuckDuckGoSearchResults()\n",
    "test=GoogleSerperAPIWrapper()\n",
    "serper =  Tool(\n",
    "        name=\"TextRetrieval\",\n",
    "        func=test.run,\n",
    "        description=\"useful for when you need to ask with search\",\n",
    "    )\n",
    "yahoo = YahooFinanceNewsTool()\n",
    "# wiki = WikipediaQueryRun(api_wrapper=WikipediaAPIWrapper())\n",
    "tools=[duck,yahoo,serper]"
   ]
  },
  {
   "cell_type": "code",
   "execution_count": 31,
   "metadata": {},
   "outputs": [],
   "source": [
    "from langgraph.prebuilt import create_react_agent\n",
    "sys_prompt = \"You are a financial research assistant. Your role is to provide a neutral, fact-based analysis of market trends, sectors, and companies based on public data and historical patterns.tyr to mimics the question how a human would search it on Google. first of all you have to create a plane to get answer to the rearch query. then you use tools to answer the question. finally you use the answer to each question to get your final answer.\"\n",
    "agent_executor = create_react_agent(llm,tools,state_modifier=sys_prompt) "
   ]
  },
  {
   "cell_type": "code",
   "execution_count": 32,
   "metadata": {},
   "outputs": [
    {
     "data": {
      "text/plain": [
       "{'messages': [HumanMessage(content='Gather information about Reliance Industries Limited, including its financial performance, recent news, and analyst ratings.', additional_kwargs={}, response_metadata={}, id='babdd2e6-d697-4f46-b78d-b47c49b9f889'),\n",
       "  AIMessage(content=\"Okay, I will gather information about Reliance Industries Limited. Here's my plan:\\n\\n1.  **Financial Performance:** I will use search to find information on Reliance Industries' financial performance.\\n2.  **Recent News:** I will use the `yahoo_finance_news` tool to find recent news articles about Reliance Industries.\\n3.  **Analyst Ratings:** I will again use search to find analyst ratings for Reliance Industries.\\n4.  **Consolidate Information:** I will combine the information from all sources to provide a comprehensive overview.\\n\\nNow, let's begin!\", additional_kwargs={'function_call': {'name': 'duckduckgo_results_json', 'arguments': '{\"query\": \"Reliance Industries Limited analyst ratings\"}'}}, response_metadata={'prompt_feedback': {'block_reason': 0, 'safety_ratings': []}, 'finish_reason': 'STOP', 'model_name': 'gemini-2.0-flash', 'safety_ratings': []}, id='run-2a362fc3-7aea-4844-bff7-dd10be498352-0', tool_calls=[{'name': 'duckduckgo_results_json', 'args': {'query': 'Reliance Industries Limited financial performance'}, 'id': '2879469d-cdc3-4618-a245-2e90d99fed58', 'type': 'tool_call'}, {'name': 'yahoo_finance_news', 'args': {'query': 'RELIANCE.NS'}, 'id': 'b04b1ee3-267a-4c8f-a9e7-7bd83bf4cb54', 'type': 'tool_call'}, {'name': 'duckduckgo_results_json', 'args': {'query': 'Reliance Industries Limited analyst ratings'}, 'id': 'aae52263-aca8-40ea-9f32-9bbcd781e27f', 'type': 'tool_call'}], usage_metadata={'input_tokens': 215, 'output_tokens': 160, 'total_tokens': 375, 'input_token_details': {'cache_read': 0}}),\n",
       "  ToolMessage(content=\"snippet: Reliance Industries Ltd is a diversified group organized around 6 areas of activity: - refining of petroleum products (58.4% of net sales): liquefied petroleum gas, propylene, naphtha, gasoline, kerosene, etc. At the end of March 2021, the group operated a refinery in India., title: Reliance Industries : RIL Q3 FY2025 Financial and Operational Performance, link: https://www.marketscreener.com/quote/stock/RELIANCE-INDUSTRIES-LTD-9058833/news/Reliance-Industries-RIL-Q3-FY2025-Financial-and-Operational-Performance-48787127/, snippet: Mukesh Ambani-led Reliance Industries Ltd (RIL) will announce its fiscal fourth quarter earnings report on April 25 (Friday) after its board meeting. According to Goldman Sachs, RIL's Q4 core ..., title: RIL to announce Q4 results on April 25 - The Financial Express, link: https://www.financialexpress.com/business/industry-ril-to-announce-q4-results-on-april-25-five-key-factors-to-watch-ahead-of-earnings-3816806/, snippet: Quarterly & Annual Financial Results of Reliance Industries Ltd Check latest quarterly results and compare financial performance over past years. Get latest Standalone, Consolidated and Segment wise financial results., title: Reliance Industries Ltd Financial Results - Quarterly & Annual ..., link: https://www.bseindia.com/stock-share-price/reliance-industries-ltd/678ril20/956839/financials-results/, snippet: Get the latest Reliance Industries Limited (NSE:RELIANCE) stock price with financials, statistics, dividends, charts and more. ... Financial Performance. In 2023, Reliance Industries's revenue was 9.01 trillion, an increase of 2.65% compared to the previous year's 8.78 trillion. Earnings were 696.21 billion, an increase of 4.38%., title: Reliance Industries Limited (NSE:RELIANCE) - Stock Analysis, link: https://stockanalysis.com/quote/nse/RELIANCE/\", name='duckduckgo_results_json', id='1b060acf-b523-4112-84bd-12a2e0ddc02e', tool_call_id='2879469d-cdc3-4618-a245-2e90d99fed58', artifact=[{'snippet': 'Reliance Industries Ltd is a diversified group organized around 6 areas of activity: - refining of petroleum products (58.4% of net sales): liquefied petroleum gas, propylene, naphtha, gasoline, kerosene, etc. At the end of March 2021, the group operated a refinery in India.', 'title': 'Reliance Industries : RIL Q3 FY2025 Financial and Operational Performance', 'link': 'https://www.marketscreener.com/quote/stock/RELIANCE-INDUSTRIES-LTD-9058833/news/Reliance-Industries-RIL-Q3-FY2025-Financial-and-Operational-Performance-48787127/'}, {'snippet': \"Mukesh Ambani-led Reliance Industries Ltd (RIL) will announce its fiscal fourth quarter earnings report on April 25 (Friday) after its board meeting. According to Goldman Sachs, RIL's Q4 core ...\", 'title': 'RIL to announce Q4 results on April 25 - The Financial Express', 'link': 'https://www.financialexpress.com/business/industry-ril-to-announce-q4-results-on-april-25-five-key-factors-to-watch-ahead-of-earnings-3816806/'}, {'snippet': 'Quarterly & Annual Financial Results of Reliance Industries Ltd Check latest quarterly results and compare financial performance over past years. Get latest Standalone, Consolidated and Segment wise financial results.', 'title': 'Reliance Industries Ltd Financial Results - Quarterly & Annual ...', 'link': 'https://www.bseindia.com/stock-share-price/reliance-industries-ltd/678ril20/956839/financials-results/'}, {'snippet': \"Get the latest Reliance Industries Limited (NSE:RELIANCE) stock price with financials, statistics, dividends, charts and more. ... Financial Performance. In 2023, Reliance Industries's revenue was 9.01 trillion, an increase of 2.65% compared to the previous year's 8.78 trillion. Earnings were 696.21 billion, an increase of 4.38%.\", 'title': 'Reliance Industries Limited (NSE:RELIANCE) - Stock Analysis', 'link': 'https://stockanalysis.com/quote/nse/RELIANCE/'}]),\n",
       "  ToolMessage(content='No news found for company that searched with RELIANCE.NS ticker.', name='yahoo_finance_news', id='64b5a167-8e17-4328-b983-fbdbc78eab51', tool_call_id='b04b1ee3-267a-4c8f-a9e7-7bd83bf4cb54'),\n",
       "  ToolMessage(content='snippet: Reliance Industries Ltd: Trading strategies, financial analysis, commentaries and investment guidance for Reliance Industries Ltd Stock | NSE India S.E.: RELIANCE | NSE India S.E. ... Ratings Reliance Industries Ltd . Equities RELIANCE INE002A01018 Oil & Gas Refining and Marketing ... Analyst opinion has improved significantly over the past ..., title: Ratings Reliance Industries Ltd - MarketScreener.com, link: https://www.marketscreener.com/quote/stock/RELIANCE-INDUSTRIES-LTD-9058833/ratings/, snippet: Reliance Industries Ltd Tue 01 Oct, 2024 - 2:46 AM ET The ratings of India-based Reliance Industries Ltd (RIL) reflect its strong business profile, with market-leading positions, diversified cash flow from oil-to-chemical (O2C) and consumer businesses, and a conservative financial profile., title: Reliance Industries Ltd - Fitch Ratings, link: https://www.fitchratings.com/research/corporate-finance/reliance-industries-ltd-01-10-2024, snippet: Reliance Industries Ltd analysts consensus, targets, ratings and recommendations | NSE India S.E.: RELIANCE | NSE India S.E. ... Consensus Reliance Industries Ltd . Equities RELIANCE INE002A01018 Oil & Gas Refining and Marketing ... Analyst Consensus Detail. Consensus revision (last 18 months), title: Consensus Reliance Industries Ltd - MarketScreener.com, link: https://www.marketscreener.com/quote/stock/RELIANCE-INDUSTRIES-LTD-9058833/consensus/, snippet: Reliance Industries Ltd. has an average target of 1516. The consensus estimate represents an upside of 22.33% from the last price of 1239.30. View 15 reports from 4 analysts offering long-term price targets for Reliance Industries Ltd.., title: Reliance Industries Ltd. Brokerage/Research Reports, analyst Research ..., link: https://trendlyne.com/research-reports/stock/1127/RELIANCE/reliance-industries-ltd/', name='duckduckgo_results_json', id='a6185256-e091-4312-bd85-b37bb2cc789f', tool_call_id='aae52263-aca8-40ea-9f32-9bbcd781e27f', artifact=[{'snippet': 'Reliance Industries Ltd: Trading strategies, financial analysis, commentaries and investment guidance for Reliance Industries Ltd Stock | NSE India S.E.: RELIANCE | NSE India S.E. ... Ratings Reliance Industries Ltd . Equities RELIANCE INE002A01018 Oil & Gas Refining and Marketing ... Analyst opinion has improved significantly over the past ...', 'title': 'Ratings Reliance Industries Ltd - MarketScreener.com', 'link': 'https://www.marketscreener.com/quote/stock/RELIANCE-INDUSTRIES-LTD-9058833/ratings/'}, {'snippet': 'Reliance Industries Ltd Tue 01 Oct, 2024 - 2:46 AM ET The ratings of India-based Reliance Industries Ltd (RIL) reflect its strong business profile, with market-leading positions, diversified cash flow from oil-to-chemical (O2C) and consumer businesses, and a conservative financial profile.', 'title': 'Reliance Industries Ltd - Fitch Ratings', 'link': 'https://www.fitchratings.com/research/corporate-finance/reliance-industries-ltd-01-10-2024'}, {'snippet': 'Reliance Industries Ltd analysts consensus, targets, ratings and recommendations | NSE India S.E.: RELIANCE | NSE India S.E. ... Consensus Reliance Industries Ltd . Equities RELIANCE INE002A01018 Oil & Gas Refining and Marketing ... Analyst Consensus Detail. Consensus revision (last 18 months)', 'title': 'Consensus Reliance Industries Ltd - MarketScreener.com', 'link': 'https://www.marketscreener.com/quote/stock/RELIANCE-INDUSTRIES-LTD-9058833/consensus/'}, {'snippet': 'Reliance Industries Ltd. has an average target of 1516. The consensus estimate represents an upside of 22.33% from the last price of 1239.30. View 15 reports from 4 analysts offering long-term price targets for Reliance Industries Ltd..', 'title': 'Reliance Industries Ltd. Brokerage/Research Reports, analyst Research ...', 'link': 'https://trendlyne.com/research-reports/stock/1127/RELIANCE/reliance-industries-ltd/'}]),\n",
       "  AIMessage(content=\"Here's a summary of information about Reliance Industries Limited based on the search results:\\n\\n**Financial Performance:**\\n\\n*   Reliance Industries is a diversified group with key activities in refining petroleum products (58.4% of net sales).\\n*   In 2023, Reliance Industries' revenue was 9.01 trillion, a 2.65% increase from the previous year. Earnings were 696.21 billion, a 4.38% increase.\\n*   Reliance is expected to announce its fiscal fourth-quarter earnings report on April 25.\\n\\n**Recent News:**\\n\\n*   No recent news was found using the Yahoo Finance News tool.\\n\\n**Analyst Ratings:**\\n\\n*   Analysts' opinions on Reliance Industries have improved significantly.\\n*   The company has a strong business profile with market-leading positions and diversified cash flow.\\n*   Trendlyne reports that Reliance Industries Ltd. has an average target of 1516, representing a 22.33% upside from the last price of 1239.30.\", additional_kwargs={}, response_metadata={'prompt_feedback': {'block_reason': 0, 'safety_ratings': []}, 'finish_reason': 'STOP', 'model_name': 'gemini-2.0-flash', 'safety_ratings': []}, id='run-ca4162fe-bfc0-43db-9806-f70589e1ce5c-0', usage_metadata={'input_tokens': 1245, 'output_tokens': 232, 'total_tokens': 1477, 'input_token_details': {'cache_read': 0}})]}"
      ]
     },
     "execution_count": 32,
     "metadata": {},
     "output_type": "execute_result"
    }
   ],
   "source": [
    "agent_executor.invoke({\"messages\":[\"Gather information about Reliance Industries Limited, including its financial performance, recent news, and analyst ratings.\"]})"
   ]
  },
  {
   "cell_type": "code",
   "execution_count": 33,
   "metadata": {},
   "outputs": [],
   "source": [
    "from typing import TypedDict, List, Annotated\n",
    "from pydantic import BaseModel, Field\n",
    "import operator\n",
    "class State(TypedDict):\n",
    "    input:str\n",
    "    plan:List[str]\n",
    "    past_steps: Annotated[List[str],operator.add]\n",
    "    response: str\n",
    "    reason:str\n",
    "\n",
    "class Plan(BaseModel):\n",
    "    steps: List[str] = Field(description=\"List of steps to be executed. In sorted order\")"
   ]
  },
  {
   "cell_type": "code",
   "execution_count": 34,
   "metadata": {},
   "outputs": [],
   "source": [
    "from langchain_core.prompts import ChatPromptTemplate\n",
    "\n",
    "planner_prompt = ChatPromptTemplate.from_messages(\n",
    "    [\n",
    "        (\n",
    "            \"system\",\n",
    "            \"\"\"\n",
    "           You are a financial research assistant. Generate a concise list of 4 to 6 detailed, search-style questions to help someone gather all the critical financial and strategic information about a company in order to make an informed investment decision.\n",
    "\n",
    "            Each question should combine multiple aspects such as:\n",
    "                Financial data (revenue, profit, cash flow, debt, assets, liabilities)\n",
    "                Performance trends (growth, historical comparisons)\n",
    "                Strategic direction (future plans, expansions, innovation)\n",
    "                Market perception (current news, investor sentiment, leadership updates)\n",
    "\n",
    "            The goal is to reduce the number of questions while ensuring that each one is rich enough to retrieve all necessary insights.\n",
    "            If needed, increase the length of the question instead of adding more items to the list. Make sure the questions are efficient and practical for web search or API-based research.\n",
    "            \"\"\" \n",
    "        ),\n",
    "        (\"placeholder\", \"{messages}\"),\n",
    "    ]\n",
    ")\n"
   ]
  },
  {
   "cell_type": "code",
   "execution_count": 35,
   "metadata": {},
   "outputs": [
    {
     "data": {
      "text/plain": [
       "[\"What are Reliance's recent annual and quarterly revenue, profit, and cash flow figures, and how do these key financial metrics compare to their historical performance over the past 3-5 years?\",\n",
       " 'What are the current market perceptions and investor sentiments towards Reliance, including recent news, analyst ratings, and any significant leadership updates or strategic announcements?',\n",
       " \"How has Reliance's debt and asset profile evolved, and what are the details of their capital expenditure plans, including any significant investments in new projects, expansions, or technological innovations?\",\n",
       " \"What are Reliance's strategic priorities and future growth plans, particularly concerning their diversification into new sectors or expansion within existing markets, and how do these plans align with current industry trends and competitive landscape?\"]"
      ]
     },
     "execution_count": 35,
     "metadata": {},
     "output_type": "execute_result"
    }
   ],
   "source": [
    "planner = planner_prompt|llm.with_structured_output(Plan)\n",
    "response = planner.invoke({\"messages\":[(\"user\",\"i should invest in reliance or not?\")]}).steps\n",
    "response"
   ]
  },
  {
   "cell_type": "code",
   "execution_count": 36,
   "metadata": {},
   "outputs": [
    {
     "data": {
      "text/plain": [
       "RunnableBinding(bound=ChatGoogleGenerativeAI(model='models/gemini-2.0-flash', google_api_key=SecretStr('**********'), client=<google.ai.generativelanguage_v1beta.services.generative_service.client.GenerativeServiceClient object at 0x0000027AD3709A90>, default_metadata=()), kwargs={'tools': [{'type': 'function', 'function': {'name': 'Act', 'description': '', 'parameters': {'properties': {'response': {'description': 'provide answer yes or no', 'enum': ['YES', 'NO'], 'type': 'string'}, 'reason': {'description': 'provide your reson for answer', 'type': 'string'}}, 'required': ['response', 'reason'], 'type': 'object'}}}], 'ls_structured_output_format': {'kwargs': {'method': 'function_calling'}, 'schema': {'type': 'function', 'function': {'name': 'Act', 'description': '', 'parameters': {'properties': {'response': {'description': 'provide answer yes or no', 'enum': ['YES', 'NO'], 'type': 'string'}, 'reason': {'description': 'provide your reson for answer', 'type': 'string'}}, 'required': ['response', 'reason'], 'type': 'object'}}}}, 'tool_choice': 'Act'}, config={}, config_factories=[])\n",
       "| PydanticToolsParser(first_tool_only=True, tools=[<class '__main__.Act'>])"
      ]
     },
     "execution_count": 36,
     "metadata": {},
     "output_type": "execute_result"
    }
   ],
   "source": [
    "from typing import Union, Literal\n",
    "\n",
    "# class Response(BaseModel):\n",
    "#     response: Literal[\"YES\",\"NO\"] = Field(description=\"provide answer yes or no\")\n",
    "#     reson: str = Field(description=\"provide your reson for answer\")\n",
    "    \n",
    "class Act(BaseModel):\n",
    "    response: Literal[\"YES\",\"NO\"] = Field(description=\"provide answer yes or no\")\n",
    "    reason: str = Field(description=\"provide your reson for answer\")\n",
    "    \n",
    "replanner_prompt = ChatPromptTemplate.from_template(\n",
    "    \"\"\" \n",
    "    Using the comprehensive research and data provided about the company, analyze the information and provide a recommendation on whether an investment should be made.\n",
    "\n",
    "    Question:\n",
    "    {input}\n",
    "\n",
    "    Supporting Information:\n",
    "    {past_steps}\n",
    "        \n",
    "    \"\"\"\n",
    ")\n",
    "\n",
    "    \n",
    "replanner = replanner_prompt | llm.with_structured_output(Act)\n",
    "llm.with_structured_output(Act)"
   ]
  },
  {
   "cell_type": "code",
   "execution_count": 37,
   "metadata": {},
   "outputs": [
    {
     "name": "stdout",
     "output_type": "stream",
     "text": [
      "[\"What are Reliance's recent annual and quarterly revenue, profit, and cash flow figures, and how do these key financial metrics compare to their historical performance over the past 3-5 years?\", 'What are the current market perceptions and investor sentiments towards Reliance, including recent news, analyst ratings, and any significant leadership updates or strategic announcements?', \"How has Reliance's debt and asset profile evolved, and what are the details of their capital expenditure plans, including any significant investments in new projects, expansions, or technological innovations?\", \"What are Reliance's strategic priorities and future growth plans, particularly concerning their diversification into new sectors or expansion within existing markets, and how do these plans align with current industry trends and competitive landscape?\"]\n"
     ]
    },
    {
     "data": {
      "text/plain": [
       "Act(response='NO', reason='Based on the information provided, I need to analyze the factors like financial performance, market position, growth opportunities, risk factors, and valuation of the company to make a recommendation. However, the information required for this analysis is not available. Therefore, I cannot provide a recommendation on whether to invest in Reliance.')"
      ]
     },
     "execution_count": 37,
     "metadata": {},
     "output_type": "execute_result"
    }
   ],
   "source": [
    "print(response)\n",
    "replanner.invoke({\"input\":\"i should invest in reliance or not?\",\"plan\":response,\"past_steps\":[('Based on the gathered information, provide a recommendation on whether to invest in Reliance.', \"Okay, I understand. To provide a recommendation on whether to invest in Reliance, I need to analyze the information I've gathered about the company. I will look for key factors such as:\\n\\n*   **Financial Performance:** Revenue, profit margins, debt levels, and growth trends.\\n*   **Market Position:** Reliance's standing in its industry, market share, and competitive landscape.\\n*   **Growth Opportunities:** Expansion plans, new ventures, and potential for future growth.\\n*   **Risk Factors:** Regulatory issues, economic conditions, and company-specific risks.\\n*   **Valuation:** How the company's stock price compares to its intrinsic value and peers.\\n\\nOnce I have a clear understanding of these aspects, I can weigh the pros and cons and provide a recommendation on whether an investment in Reliance is advisable.\")],\"response\":\"\"})"
   ]
  },
  {
   "cell_type": "code",
   "execution_count": 38,
   "metadata": {},
   "outputs": [],
   "source": [
    "# from typing import Literal\n",
    "from langgraph.graph import END\n",
    "from langgraph.types import Send, Command\n",
    "\n",
    "class ExecuteStep(TypedDict):\n",
    "    step:str\n",
    "\n",
    "def execute_step(state:ExecuteStep):\n",
    "    print(\"---EXECUTE---\")\n",
    "    plan = state['step']\n",
    "    task_formated =f\"\"\" \n",
    "    for the following plan: {plan}\\n\\n you are tasked with executing step.Try to give answer in details.\n",
    "     \"\"\"\n",
    "    agent_response = agent_executor.invoke({\"messages\":[(\"user\",task_formated)]})\n",
    "    return {\"past_steps\":[agent_response[\"messages\"][-1].content]}\n",
    "\n",
    "# execute_step({\"plan\":response})\n",
    "def continue_execute_step(state:State)->Command[Literal[\"execute_step\"]]:\n",
    "    return [Send(\"execute_step\",{\"step\":t}) for t in state['plan']]\n",
    "\n",
    "def plan_step(state:State):\n",
    "    print(\"---PLAN---\")\n",
    "    plan = planner.invoke({\"messages\":[(\"user\",state['input'])]})\n",
    "    return {\"plan\":plan.steps}\n",
    "\n",
    "# plan_step({\"input\":\"i should invest in reliance or not?\"})\n",
    "\n",
    "def replan_step(state:State):\n",
    "    print(\"---REPLAN---\")\n",
    "    output = replanner.invoke(state)\n",
    "    # print(\"OUTPUT---->\",output)\n",
    "    return {\"response\":output.response,\"reason\":output.reason}\n",
    "\n"
   ]
  },
  {
   "cell_type": "code",
   "execution_count": 39,
   "metadata": {},
   "outputs": [
    {
     "name": "stdout",
     "output_type": "stream",
     "text": [
      "---EXECUTE---\n"
     ]
    },
    {
     "data": {
      "text/plain": [
       "{'past_steps': [\"Okay, I have gathered some information. To collect Reliance Industries' financial statements (balance sheet, income statement, cash flow statement) for the past 5 years, here's what I've found and how I'll proceed:\\n\\n1.  **Annual Reports:** I can access Reliance Industries' annual reports through the NSE India website and the company's official website. These reports should contain the required financial statements.\\n2.  **Financial Results on BSE:** The Bombay Stock Exchange (BSE) website provides quarterly and annual financial results for Reliance Industries.\\n3.  **Trendlyne:** Trendlyne also offers financial statements, including balance sheets, profit and loss statements, and cash flow statements, for Reliance Industries with a 15-year history.\\n4.  **Smart-Investing:** Smart-Investing provides financial statement analysis, including key metrics and last 5 years annual financial results.\\n\\nI will now proceed to find the links to these resources and attempt to extract the financial data for the past 5 years. I will focus on the annual reports and financial results available on the official exchange websites and Trendlyne, as these are likely to be the most reliable sources.\"]}"
      ]
     },
     "execution_count": 39,
     "metadata": {},
     "output_type": "execute_result"
    }
   ],
   "source": [
    "execute_step({\"step\":\"Collect Reliance Industries' financial statements (balance sheet, income statement, cash flow statement) for the past 5 years.\"})"
   ]
  },
  {
   "cell_type": "code",
   "execution_count": null,
   "metadata": {},
   "outputs": [],
   "source": [
    "from langchain_google_community import GmailToolkit\n",
    "from langgraph.prebuilt import create_react_agent\n",
    "from langchain_core.messages import HumanMessage,AIMessage\n",
    "from langchain_google_community.gmail.utils import (\n",
    "    build_resource_service,\n",
    "    get_gmail_credentials,\n",
    ")\n",
    "\n",
    "credentials = get_gmail_credentials(\n",
    "    token_file=\"token.json\",\n",
    "    scopes=[\"https://mail.google.com/\"],\n",
    "    client_secrets_file=\"credentials.json\",\n",
    ")\n",
    "example_query = \"write an email to pawanraut131@gmail.com  for leave on 23-04-2025 generate subject and body\"\n",
    "api_resource = build_resource_service(credentials=credentials)\n",
    "toolkit = GmailToolkit(api_resource=api_resource)\n",
    "mail_tools = toolkit.get_tools()\n",
    "mail_prompt =\"You are a mail writer. write a mail for givin conversation btw user and ai.\"\n",
    "mail_agent_executor = create_react_agent(llm, tools=mail_tools)\n",
    "\n",
    "def send_mail(state:State):\n",
    "    human_message = state[\"input\"]\n",
    "    answer = state[\"response\"] + \", \" + state[\"reason\"]\n",
    "    ai_message = AIMessage(content=answer)\n",
    "    system= \"\"\"You are a professional email assistant.\n",
    "\n",
    "    Your task is to use the available tools to Send an email to the address: reciver@gmail.com.\n",
    "\n",
    "    The content of the email must be based on the conversation between a user and an AI assistant. \n",
    "    Generate the subject and body of the email, and then send a email using the appropriate tool.\n",
    "\n",
    "    Sender's name: [Your Name]\n",
    "\n",
    "    Conversation:\n",
    "    User: \"\"\" + human_message + \"\"\"\n",
    "    AI: \"\"\" + answer + \"\"\"\n",
    "\n",
    "    Instructions:\n",
    "    - Analyze the full conversation and determine the user's main request or intent.\n",
    "    - Create a relevant subject line.\n",
    "    - Write a clear, concise, and polite email body summarizing the request.\n",
    "    - Use a professional and friendly tone.\n",
    "    - Give prope indentation and formatting should be used to make the email easy to read.\n",
    "    \"\"\"\n",
    "    response  = mail_agent_executor.invoke({\"messages\":[system]})\n",
    "    print(response)\n",
    "    print(response['messages'][-1].content)\n",
    "    for event in response[\"messages\"]:\n",
    "        event.pretty_print()\n",
    "    # return response['messages'][-1].content\n",
    "    \n",
    "    "
   ]
  },
  {
   "cell_type": "code",
   "execution_count": 41,
   "metadata": {},
   "outputs": [],
   "source": [
    "# print(send_mail({'input':\"i should invest in vedanta or not?\",\"reason\":\"it is not good company\",\"response\":\"NO\"}))\n",
    "# mail_agent_executor.invoke({\"messages\":example_query})"
   ]
  },
  {
   "cell_type": "code",
   "execution_count": 42,
   "metadata": {},
   "outputs": [
    {
     "data": {
      "image/png": "[encoded data removed]",
      "text/plain": [
       "<langgraph.graph.state.CompiledStateGraph object at 0x0000027ACEA9FB50>"
      ]
     },
     "execution_count": 42,
     "metadata": {},
     "output_type": "execute_result"
    }
   ],
   "source": [
    "from langgraph.graph import StateGraph, START\n",
    "from langchain import hub\n",
    "graph = StateGraph(State)\n",
    "graph.add_node(\"planner\",plan_step)\n",
    "graph.add_node(\"execute_step\",execute_step)\n",
    "graph.add_node(\"replan\",replan_step)\n",
    "graph.add_node(\"send_mail\",send_mail)\n",
    "graph.add_edge(START,\"planner\") \n",
    "graph.add_conditional_edges(\"planner\",continue_execute_step) \n",
    "graph.add_edge(\"execute_step\",\"replan\") \n",
    "graph.add_edge(\"replan\",\"send_mail\")\n",
    "graph.add_edge(\"send_mail\",END)\n",
    "app = graph.compile()\n",
    "app"
   ]
  },
  {
   "cell_type": "code",
   "execution_count": 43,
   "metadata": {},
   "outputs": [
    {
     "name": "stdout",
     "output_type": "stream",
     "text": [
      "---PLAN---\n",
      "planner: {'plan': [\"What are Reliance's recent annual and quarterly revenues, net income, and cash flow trends, and how do these figures compare to their historical performance over the past 3-5 years and to their main competitors in the industry?\", \"What are Reliance's current debt levels, key asset holdings, and liabilities, and how have these changed over the recent years?\", \"What are Reliance's strategic priorities, including any planned expansions, investments in new technologies, or shifts in business focus, as detailed in their latest investor presentations and annual reports?\", \"What is the current market sentiment towards Reliance, considering recent news articles, analyst ratings, and major leadership announcements or changes, and how might these factors influence the company's short-term and long-term prospects?\"]}\n",
      "---EXECUTE---\n",
      "---EXECUTE---\n",
      "---EXECUTE---\n",
      "---EXECUTE---\n"
     ]
    },
    {
     "name": "stderr",
     "output_type": "stream",
     "text": [
      "404 Client Error: Not Found for url: https://query2.finance.yahoo.com/v10/finance/quoteSummary/RELIANCE%20INDUSTRIES?modules=financialData%2CquoteType%2CdefaultKeyStatistics%2CassetProfile%2CsummaryDetail&corsDomain=finance.yahoo.com&formatted=false&symbol=RELIANCE+INDUSTRIES&crumb=2VzjXRMW3PK\n"
     ]
    },
    {
     "name": "stdout",
     "output_type": "stream",
     "text": [
      "execute_step: {'past_steps': [\"I am unable to gather specific numerical data regarding Reliance Industries' financials using the available tools. The Yahoo Finance News tool returned an error, and while the DuckDuckGo search provided some press releases about Reliance, Inc. (a different company), it doesn't offer a comprehensive overview of Reliance Industries' financial trends.\\n\\nTo fully address the request, I would need access to tools that can directly retrieve financial data for Reliance Industries (Reliance Industries ticker symbol is RELIANCE.NS). This would involve accessing financial databases or APIs that provide historical annual and quarterly reports, including revenue, net income, and cash flow figures.\"]}\n",
      "execute_step: {'past_steps': ['To determine Reliance\\'s strategic priorities, planned expansions, investments in new technologies, and shifts in business focus, I will analyze their latest investor presentations and annual reports.\\n\\nBased on the search results, I will focus on the following resources:\\n\\n*   **Reliance Industries Limited website:** The investor relations section of the RIL website is the primary source for investor presentations, annual reports, and statutory filings.\\n*   **NSE and BSE:** These sites contain financial results and corporate filings, including annual reports.\\n*   **Moneycontrol.com:** For corporate notices, including the Annual General Meeting and Integrated Annual Report.\\n*   **Marketscreener.com:** For financial presentations.\\n\\nMy approach will involve:\\n\\n1.  **Locating the latest investor presentations and annual reports:** I will prioritize documents from FY24 and Q1 FY25.\\n2.  **Extracting key information:** I will identify sections discussing strategic priorities, expansion plans, technology investments, and changes in business focus.\\n3.  **Synthesizing the findings:** I will combine information from different sources to create a comprehensive overview of Reliance\\'s strategic direction.\\n\\nGiven the available tools, I will start by searching for specific documents like \"Reliance Industries Limited FY24 annual report\" and \"Reliance Industries Limited Q1 FY25 investor presentation\" to narrow down the scope and obtain the most relevant information.']}\n",
      "execute_step: {'past_steps': [\"Okay, here's a breakdown of Reliance Industries' debt, assets, and liabilities based on the search results. Due to the nature of the available tools, I can only provide information gleaned from web searches and not live financial data.\\n\\n**Debt Levels:**\\n\\n*   **High Debt historically:** Reliance Industries has had high debt levels in the past due to aggressive expansion, particularly in developing the Jio network. In 2020, their debt was reported at ₹346,196 crores.\\n*   **Recent Trends:**\\n    *   As of September 2024, net debt (excluding spectrum liabilities, capex creditors and lease liabilities) remained around INR 1,164 billion (similar to March 2024: INR 1,163 billion).\\n    *   Their net leverage (net debt to EBITDA) was reported as robust at 0.67x in 1HFY25 (FY24: 0.71x).\\n    *   A recent report indicates Reliance is seeking up to $3 billion in loans for refinancing, marking a return to the offshore market since 2023.\\n    *   ICICI Direct reported net debt as of March 31, 2023, as Rs 1,10,218 crore (USD 13.4 billion).\\n\\n**Key Asset Holdings:**\\n\\n*   **Fixed Assets:** Fixed assets, including property, plant, and equipment, are a significant part of Reliance's operational infrastructure, valued at Rs. 9,66,458 crore.\\n*   **Total Assets:** The total assets of Reliance Industries were approximately 17.6 trillion Indian rupees in 2023.\\n*   **Portfolio Holdings:** Reliance Group publicly holds 22 stocks with a net worth of over Rs. 118,358.0 Cr (as of December 31, 2024).\\n*   **Reliance Global Corporate Security:** Provides security to assets of Reliance Industries.\\n\\n**Liabilities:**\\n\\n*   **Total Liabilities:** Reliance Industries' total liabilities were over 8 trillion Indian rupees in fiscal year 2024.\\n*   **2023 Liabilities:** In 2023, liabilities amounted to 8.3 trillion Indian rupees.\\n\\n**Changes Over Recent Years:**\\n\\n*   **Revenue:** Relatively flat revenue year-on-year (8.91tn to 9.14tn).\\n*   **Net Income:** Net income grew 4.38% from 667.02bn to 696.21bn.\\n*   **Cost of Goods Sold:** Reduction in the cost of goods sold as a percentage of sales from 71.84% to 68.99%.\\n*   **Net Worth:** Reliance Industries has a net worth of 6.6 trillion rupees in the financial year 2023.\\n\\n**Important Considerations:**\\n\\n*   The information gathered is from various sources and may have different reporting periods or definitions.\\n*   For precise, up-to-date figures, consult Reliance Industries' official financial reports.\\n*   Credit rating agencies like India Ratings provide detailed analyses of Reliance's debt and financial performance.\"]}\n",
      "execute_step: {'past_steps': ['Okay, here\\'s an analysis of the current market sentiment towards Reliance Industries, considering recent news, analyst ratings, and leadership announcements:\\n\\n**1. Recent News Articles:**\\n\\n*   The Yahoo Finance News API yielded no recent news specifically for the \"RELIANCE.NS\" ticker. This suggests there aren\\'t any major breaking headlines readily available through that source.\\n\\n**2. Analyst Ratings:**\\n\\n*   MarketScreener.com suggests an improvement in analyst opinion recently.\\n*   Trendlyne indicates that Reliance Industries Ltd. has an average target price of 1516, representing a potential upside of 22.33% from a last price of 1239.30. However, it also mentions a downgrade from at least one broker.\\n\\n**3. Major Leadership Announcements/Changes:**\\n\\n*   Reliance is undergoing a strategic leadership transition, with Mukesh Ambani highlighting this shift.\\n*   Ira Bindra has been appointed as Group President of People, Leadership, and Talent. This is a significant move as she is the first non-family woman and the youngest member to join Reliance\\'s executive committee. This signals a change in HR and talent management approaches.\\n\\n**4. Sentiment and Potential Influences:**\\n\\n*   **Positive Sentiment Factors:**\\n    *   **Analyst Target Prices:** The average target price suggests analysts generally see potential for growth.\\n    *   **Leadership Transition:** The planned leadership transition, with Mukesh Ambani still involved, could be viewed positively as a sign of stability and long-term planning.\\n    *   **New HR Leadership:** The appointment of Ira Bindra could be interpreted as a forward-thinking move to modernize HR practices and attract/retain talent.\\n\\n*   **Negative Sentiment Factors:**\\n    *   **Broker Downgrade:** The mention of a broker downgrade on Trendlyne indicates some analysts have a less optimistic outlook.\\n    *   **No Recent News:** The lack of significant news headlines could mean the company is not currently in the spotlight, which might lead to investor apathy.\\n\\n**5. Potential Influences on Short-Term and Long-Term Prospects:**\\n\\n*   **Short-Term:**\\n    *   Analyst ratings and target prices can influence short-term trading activity. Positive ratings might lead to increased buying pressure, while downgrades could trigger selling.\\n    *   Major announcements (like leadership changes) can create short-term volatility as the market assesses the implications.\\n\\n*   **Long-Term:**\\n    *   The success of the leadership transition will be crucial. If the new leaders can maintain or improve upon Reliance\\'s performance, it will positively impact long-term prospects.\\n    *   The effectiveness of the new HR strategies under Ira Bindra will influence the company\\'s ability to attract and retain top talent, which is essential for long-term innovation and growth.\\n\\n**In conclusion:** The market sentiment appears cautiously optimistic, driven by analyst target prices and the planned leadership transition. However, a broker downgrade and the need to successfully execute the leadership changes introduce some uncertainty. The appointment of a new HR leader signals a potential modernization of talent management practices, which could benefit the company in the long run.']}\n",
      "---REPLAN---\n",
      "replan: {'response': 'NO', 'reason': \"Based on the information provided, Reliance Industries has a mix of positive and negative indicators. They have high debt but robust net leverage. Analyst ratings suggest potential upside, but there's also a recent downgrade from a broker. A leadership transition is underway, which adds uncertainty. The market sentiment is cautiously optimistic. I need more information to make a confident recommendation, specifically about your risk tolerance and investment goals. However, considering the information, a conservative approach would be to say no.\"}\n",
      "{'messages': [HumanMessage(content=\"You are a professional email assistant.\\n\\n    Your task is to use the available tools to Send an email to the address: pawanraut131@gmail.com.\\n\\n    The content of the email must be based on the conversation between a user and an AI assistant. \\n    Generate the subject and body of the email, and then send a email using the appropriate tool.\\n\\n    Sender's name: Vivek Vaghasiya\\n\\n    Conversation:\\n    User: i should invest in reliance or not?\\n    AI: NO, Based on the information provided, Reliance Industries has a mix of positive and negative indicators. They have high debt but robust net leverage. Analyst ratings suggest potential upside, but there's also a recent downgrade from a broker. A leadership transition is underway, which adds uncertainty. The market sentiment is cautiously optimistic. I need more information to make a confident recommendation, specifically about your risk tolerance and investment goals. However, considering the information, a conservative approach would be to say no.\\n\\n    Instructions:\\n    - Analyze the full conversation and determine the user's main request or intent.\\n    - Create a relevant subject line.\\n    - Write a clear, concise, and polite email body summarizing the request.\\n    - Use a professional and friendly tone.\\n    - Give prope indentation and formatting should be used to make the email easy to read.\\n    \", additional_kwargs={}, response_metadata={}, id='87dafb88-2ae7-4e97-97c6-49570c86207a'), AIMessage(content='', additional_kwargs={'function_call': {'name': 'send_gmail_message', 'arguments': '{\"to\": [\"pawanraut131@gmail.com\"], \"message\": \"Dear Pawan,\\\\n\\\\nI hope this email finds you well.\\\\n\\\\nI wanted to provide you with some information regarding your query on whether to invest in Reliance Industries.\\\\n\\\\nBased on my analysis, Reliance Industries presents a mixed picture. While they have high debt, their net leverage is robust. Analyst ratings indicate a potential upside, but there was also a recent downgrade from a broker. Additionally, a leadership transition is in progress, which introduces some uncertainty.\\\\n\\\\nConsidering the information available and without knowing your risk tolerance and investment goals, my suggestion would be no.\\\\n\\\\nIf you have any further questions or need more detailed advice, feel free to ask.\\\\n\\\\nBest regards,\\\\nVivek Vaghasiya\", \"subject\": \"Investment Advice on Reliance Industries\"}'}}, response_metadata={'prompt_feedback': {'block_reason': 0, 'safety_ratings': []}, 'finish_reason': 'STOP', 'model_name': 'gemini-2.0-flash', 'safety_ratings': []}, id='run-f6bf954e-e296-426d-8aa3-91e4b0452a63-0', tool_calls=[{'name': 'send_gmail_message', 'args': {'to': ['pawanraut131@gmail.com'], 'message': 'Dear Pawan,\\n\\nI hope this email finds you well.\\n\\nI wanted to provide you with some information regarding your query on whether to invest in Reliance Industries.\\n\\nBased on my analysis, Reliance Industries presents a mixed picture. While they have high debt, their net leverage is robust. Analyst ratings indicate a potential upside, but there was also a recent downgrade from a broker. Additionally, a leadership transition is in progress, which introduces some uncertainty.\\n\\nConsidering the information available and without knowing your risk tolerance and investment goals, my suggestion would be no.\\n\\nIf you have any further questions or need more detailed advice, feel free to ask.\\n\\nBest regards,\\nVivek Vaghasiya', 'subject': 'Investment Advice on Reliance Industries'}, 'id': '4b9c817c-37ef-45ed-aa36-ef191caf5225', 'type': 'tool_call'}], usage_metadata={'input_tokens': 637, 'output_tokens': 164, 'total_tokens': 801, 'input_token_details': {'cache_read': 0}}), ToolMessage(content='Message sent. Message Id: 1965874190d34e35', name='send_gmail_message', id='97a65eec-3f1b-419a-9836-7142baa3b28b', tool_call_id='4b9c817c-37ef-45ed-aa36-ef191caf5225'), AIMessage(content='Okay, I\\'ve sent an email to pawanraut131@gmail.com with the subject \"Investment Advice on Reliance Industries\" and the email body containing the investment advice based on the conversation.', additional_kwargs={}, response_metadata={'prompt_feedback': {'block_reason': 0, 'safety_ratings': []}, 'finish_reason': 'STOP', 'model_name': 'gemini-2.0-flash', 'safety_ratings': []}, id='run-9a4f4ea9-4b7a-402f-a47e-0ac65a2df328-0', usage_metadata={'input_tokens': 830, 'output_tokens': 44, 'total_tokens': 874, 'input_token_details': {'cache_read': 0}})]}\n",
      "Okay, I've sent an email to pawanraut131@gmail.com with the subject \"Investment Advice on Reliance Industries\" and the email body containing the investment advice based on the conversation.\n",
      "================================\u001b[1m Human Message \u001b[0m=================================\n",
      "\n",
      "You are a professional email assistant.\n",
      "\n",
      "    Your task is to use the available tools to Send an email to the address: pawanraut131@gmail.com.\n",
      "\n",
      "    The content of the email must be based on the conversation between a user and an AI assistant. \n",
      "    Generate the subject and body of the email, and then send a email using the appropriate tool.\n",
      "\n",
      "    Sender's name: Vivek Vaghasiya\n",
      "\n",
      "    Conversation:\n",
      "    User: i should invest in reliance or not?\n",
      "    AI: NO, Based on the information provided, Reliance Industries has a mix of positive and negative indicators. They have high debt but robust net leverage. Analyst ratings suggest potential upside, but there's also a recent downgrade from a broker. A leadership transition is underway, which adds uncertainty. The market sentiment is cautiously optimistic. I need more information to make a confident recommendation, specifically about your risk tolerance and investment goals. However, considering the information, a conservative approach would be to say no.\n",
      "\n",
      "    Instructions:\n",
      "    - Analyze the full conversation and determine the user's main request or intent.\n",
      "    - Create a relevant subject line.\n",
      "    - Write a clear, concise, and polite email body summarizing the request.\n",
      "    - Use a professional and friendly tone.\n",
      "    - Give prope indentation and formatting should be used to make the email easy to read.\n",
      "    \n",
      "==================================\u001b[1m Ai Message \u001b[0m==================================\n",
      "Tool Calls:\n",
      "  send_gmail_message (4b9c817c-37ef-45ed-aa36-ef191caf5225)\n",
      " Call ID: 4b9c817c-37ef-45ed-aa36-ef191caf5225\n",
      "  Args:\n",
      "    to: ['pawanraut131@gmail.com']\n",
      "    message: Dear Pawan,\n",
      "\n",
      "I hope this email finds you well.\n",
      "\n",
      "I wanted to provide you with some information regarding your query on whether to invest in Reliance Industries.\n",
      "\n",
      "Based on my analysis, Reliance Industries presents a mixed picture. While they have high debt, their net leverage is robust. Analyst ratings indicate a potential upside, but there was also a recent downgrade from a broker. Additionally, a leadership transition is in progress, which introduces some uncertainty.\n",
      "\n",
      "Considering the information available and without knowing your risk tolerance and investment goals, my suggestion would be no.\n",
      "\n",
      "If you have any further questions or need more detailed advice, feel free to ask.\n",
      "\n",
      "Best regards,\n",
      "Vivek Vaghasiya\n",
      "    subject: Investment Advice on Reliance Industries\n",
      "=================================\u001b[1m Tool Message \u001b[0m=================================\n",
      "Name: send_gmail_message\n",
      "\n",
      "Message sent. Message Id: 1965874190d34e35\n",
      "==================================\u001b[1m Ai Message \u001b[0m==================================\n",
      "\n",
      "Okay, I've sent an email to pawanraut131@gmail.com with the subject \"Investment Advice on Reliance Industries\" and the email body containing the investment advice based on the conversation.\n",
      "send_mail: None\n"
     ]
    }
   ],
   "source": [
    "# app.invoke({\"input\":\"i should invest in reliance or not?\"})\n",
    "for e in app.stream({\"input\":\"i should invest in reliance or not?\"}):\n",
    "    for k, v in e.items():\n",
    "        if k != \"__end__\":\n",
    "            print(f\"{k}: {v}\")"
   ]
  }
 ],
 "metadata": {
  "kernelspec": {
   "display_name": "env",
   "language": "python",
   "name": "python3"
  },
  "language_info": {
   "codemirror_mode": {
    "name": "ipython",
    "version": 3
   },
   "file_extension": ".py",
   "mimetype": "text/x-python",
   "name": "python",
   "nbconvert_exporter": "python",
   "pygments_lexer": "ipython3",
   "version": "3.13.1"
  }
 },
 "nbformat": 4,
 "nbformat_minor": 2
}
